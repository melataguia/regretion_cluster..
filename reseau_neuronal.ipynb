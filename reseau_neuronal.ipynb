{
  "nbformat": 4,
  "nbformat_minor": 0,
  "metadata": {
    "colab": {
      "provenance": [],
      "machine_shape": "hm",
      "authorship_tag": "ABX9TyNEmHiHcXD8X5b1i/wd7EXS",
      "include_colab_link": true
    },
    "kernelspec": {
      "name": "ir",
      "display_name": "R"
    },
    "language_info": {
      "name": "R"
    }
  },
  "cells": [
    {
      "cell_type": "markdown",
      "metadata": {
        "id": "view-in-github",
        "colab_type": "text"
      },
      "source": [
        "<a href=\"https://colab.research.google.com/github/melataguia/regretion_cluster../blob/main/reseau_neuronal.ipynb\" target=\"_parent\"><img src=\"https://colab.research.google.com/assets/colab-badge.svg\" alt=\"Open In Colab\"/></a>"
      ]
    },
    {
      "cell_type": "markdown",
      "source": [
        "# Installation de la bibliothèque Keras"
      ],
      "metadata": {
        "id": "g5tjNlkH_sSy"
      }
    },
    {
      "cell_type": "code",
      "source": [
        "if (!require(keras)) {\n",
        "  install.packages(\"keras\")\n",
        "}\n",
        "if (!require(tensorflow)) {\n",
        "  install.packages(\"tensorflow\")\n",
        "}\n"
      ],
      "metadata": {
        "id": "notw76bq_tha"
      },
      "execution_count": null,
      "outputs": []
    },
    {
      "cell_type": "markdown",
      "source": [
        "##Bibliothèques nécessaires\n"
      ],
      "metadata": {
        "id": "9-TuINKS_vmf"
      }
    },
    {
      "cell_type": "code",
      "source": [
        "library(keras)\n",
        "library(dplyr)"
      ],
      "metadata": {
        "id": "JYyZNn4E_xbk",
        "outputId": "400a9671-fcaa-4c8b-fcec-80452396e120",
        "colab": {
          "base_uri": "https://localhost:8080/"
        }
      },
      "execution_count": 26,
      "outputs": [
        {
          "output_type": "stream",
          "name": "stderr",
          "text": [
            "\n",
            "Attaching package: ‘dplyr’\n",
            "\n",
            "\n",
            "The following objects are masked from ‘package:stats’:\n",
            "\n",
            "    filter, lag\n",
            "\n",
            "\n",
            "The following objects are masked from ‘package:base’:\n",
            "\n",
            "    intersect, setdiff, setequal, union\n",
            "\n",
            "\n"
          ]
        }
      ]
    },
    {
      "cell_type": "markdown",
      "source": [
        "## Les données MovieLens(ratings et movies)"
      ],
      "metadata": {
        "id": "AlgHz220_zvX"
      }
    },
    {
      "cell_type": "code",
      "source": [
        "movies <- read.csv('../movies.csv')\n",
        "ratings <- read.csv('../ratings.csv')\n",
        "#tags <- read.csv('./tags.csv')"
      ],
      "metadata": {
        "id": "huRnupVx_19k"
      },
      "execution_count": 34,
      "outputs": []
    },
    {
      "cell_type": "markdown",
      "source": [
        "# Vérification des données manquantes"
      ],
      "metadata": {
        "id": "_er4R7eu_4L_"
      }
    },
    {
      "cell_type": "code",
      "source": [
        "missing_valuesr <- sapply(ratings, function(x) sum(is.na(x)))\n",
        "missing_valuesm <- sapply(movies, function(x) sum(is.na(x)))\n",
        "print(missing_valuesr)\n",
        "print(missing_valuesm)"
      ],
      "metadata": {
        "id": "wf1lphkB_7xB",
        "outputId": "ef9c628f-52ff-44b5-cbd9-9be9bc63a789",
        "colab": {
          "base_uri": "https://localhost:8080/"
        }
      },
      "execution_count": 17,
      "outputs": [
        {
          "output_type": "stream",
          "name": "stdout",
          "text": [
            "   userId   movieId    rating timestamp \n",
            "        0         0         0         2 \n",
            "movieId   title  genres \n",
            "      0       0       0 \n"
          ]
        }
      ]
    },
    {
      "cell_type": "markdown",
      "source": [
        "##Supprimer les lignes avec des valeurs manquantes sur \"ratings\""
      ],
      "metadata": {
        "id": "7hKLpxHh_9_l"
      }
    },
    {
      "cell_type": "code",
      "source": [
        "ratings <- ratings[complete.cases(ratings), ]"
      ],
      "metadata": {
        "id": "cxW5lKl3AAOf"
      },
      "execution_count": 18,
      "outputs": []
    },
    {
      "cell_type": "markdown",
      "source": [
        "##Supprimer les lignes avec des valeurs manquantes sur \"movies\""
      ],
      "metadata": {
        "id": "LZDsqfNqZe6Q"
      }
    },
    {
      "cell_type": "code",
      "source": [
        "movies <- ratings[complete.cases(movies), ]"
      ],
      "metadata": {
        "id": "JfatDDdeZj8r"
      },
      "execution_count": 19,
      "outputs": []
    },
    {
      "cell_type": "markdown",
      "source": [
        "###Fusionner les données"
      ],
      "metadata": {
        "id": "cEk8beO7J7MQ"
      }
    },
    {
      "cell_type": "code",
      "source": [
        "merged_df <- merge(ratings, movies, by = \"movieId\", all.x=TRUE)"
      ],
      "metadata": {
        "id": "cLmse7WkAIuA"
      },
      "execution_count": 35,
      "outputs": []
    },
    {
      "cell_type": "markdown",
      "source": [
        "##Remplacement des valeurs manquantes par une chaîne vide"
      ],
      "metadata": {
        "id": "_3gRrOz6eY96"
      }
    },
    {
      "cell_type": "code",
      "source": [
        "str(merged_df)"
      ],
      "metadata": {
        "id": "EmNnXcdFeX8V",
        "outputId": "44d56776-35b1-44d7-af9b-e1069f2811d4",
        "colab": {
          "base_uri": "https://localhost:8080/"
        }
      },
      "execution_count": 49,
      "outputs": [
        {
          "output_type": "stream",
          "name": "stdout",
          "text": [
            "'data.frame':\t158589 obs. of  6 variables:\n",
            " $ movieId  : num  1 1 1 1 1 1 1 1 1 1 ...\n",
            " $ userId   : int  1 232 562 432 550 179 112 471 328 468 ...\n",
            " $ rating   : num  4 3.5 4.5 2.5 4 4 3 5 5 4 ...\n",
            " $ timestamp: int  964982703 1076955621 1368893997 1316391457 1488728441 852114051 1442535639 1496671820 1494210665 831400444 ...\n",
            " $ title    : Factor w/ 9719 levels \"Toy Story (1995)\",..: 1 1 1 1 1 1 1 1 1 1 ...\n",
            " $ genres   : Factor w/ 951 levels \"Adventure|Animation|Children|Comedy|Fantasy\",..: 1 1 1 1 1 1 1 1 1 1 ...\n"
          ]
        }
      ]
    },
    {
      "cell_type": "markdown",
      "source": [
        "##Prétraitement des données\n",
        "###Encoder les variables catégorielles"
      ],
      "metadata": {
        "id": "YhtkQRtGIb0F"
      }
    },
    {
      "cell_type": "code",
      "source": [
        "merged_df$title <- as.character(merged_df$title)\n",
        "merged_df$genres <- as.character(merged_df$genres)\n"
      ],
      "metadata": {
        "id": "21GLQQIGIdp6"
      },
      "execution_count": 50,
      "outputs": []
    },
    {
      "cell_type": "markdown",
      "source": [
        "###Contrôler et assigner les niveaux des facteurs"
      ],
      "metadata": {
        "id": "9O_gKiztijZT"
      }
    },
    {
      "cell_type": "code",
      "source": [
        "merged_df$title <- factor(merged_df$title, levels = unique(merged_df$title))\n",
        "merged_df$genres <- factor(merged_df$genres, levels = unique(merged_df$genres))"
      ],
      "metadata": {
        "id": "x1U6ZsPXierQ"
      },
      "execution_count": 51,
      "outputs": []
    },
    {
      "cell_type": "markdown",
      "source": [
        "\n",
        "##Division des données en ensembles d'entraînement et de test"
      ],
      "metadata": {
        "id": "Q68Hd1Y1IifR"
      }
    },
    {
      "cell_type": "code",
      "source": [
        "set.seed(42) # Pour la reproductibilité\n",
        "train_indices <- sample(1:nrow(merged_df), 0.8*nrow(merged_df))\n",
        "train_data <- merged_df[train_indices, ]\n",
        "test_data <- merged_df[-train_indices, ]"
      ],
      "metadata": {
        "id": "rQ6ez9SCIjMc"
      },
      "execution_count": 52,
      "outputs": []
    },
    {
      "cell_type": "markdown",
      "source": [
        "\n",
        "##Création du modèle"
      ],
      "metadata": {
        "id": "TkKxkBUBAQ0b"
      }
    },
    {
      "cell_type": "code",
      "source": [
        "\n",
        "model <- keras_model_sequential()\n",
        "\n",
        "# Ajouter des couches au modèle\n",
        "model %>%\n",
        "  layer_embedding(input_dim = nlevels(merged_df$title) + nlevels(merged_df$genres) + 1, output_dim = 32) %>%\n",
        "  layer_flatten() %>%\n",
        "  layer_dense(units = 4, activation = \"relu\") %>%\n",
        "  layer_dense(units = 32, activation = \"relu\") %>%\n",
        "  layer_dense(units = 1, activation = \"linear\") %>%\n",
        "  layer_dense(units = 32, activation = \"relu\") %>%\n",
        "  layer_dense(units = 64, activation = \"relu\")\n"
      ],
      "metadata": {
        "id": "DChBJqu_ARnZ"
      },
      "execution_count": null,
      "outputs": []
    },
    {
      "cell_type": "markdown",
      "source": [
        "# Compiler le modèle"
      ],
      "metadata": {
        "id": "q_D4QbHWapk1"
      }
    },
    {
      "cell_type": "code",
      "source": [
        "model %>% compile(\n",
        "  loss = \"mean_squared_error\",\n",
        "  optimizer = optimizer_adam(),\n",
        "  metrics = list(\"mean_absolute_error\")\n",
        ")"
      ],
      "metadata": {
        "id": "KPgFZ6WmasXm"
      },
      "execution_count": 46,
      "outputs": []
    },
    {
      "cell_type": "markdown",
      "source": [
        "##Entraîner le modèle"
      ],
      "metadata": {
        "id": "RSM0bJO5axwV"
      }
    },
    {
      "cell_type": "code",
      "source": [
        "history <- model %>% fit(\n",
        "  x = list(train_data$title, train_data$genres),\n",
        "  y = train_data$rating,\n",
        "  epochs = 10,\n",
        "  batch_size = 64,\n",
        "  validation_split = 0.2\n",
        ")"
      ],
      "metadata": {
        "id": "yma-RZIbawp_"
      },
      "execution_count": null,
      "outputs": []
    },
    {
      "cell_type": "markdown",
      "source": [
        "##Évaluation du modèle"
      ],
      "metadata": {
        "id": "VThRf6LUa2qm"
      }
    },
    {
      "cell_type": "code",
      "source": [
        "model %>% evaluate(\n",
        "  x = list(test_data$title, test_data$genres),\n",
        "  y = test_data$rating\n",
        ")"
      ],
      "metadata": {
        "id": "hqW_TJhWa_wH"
      },
      "execution_count": null,
      "outputs": []
    }
  ]
}