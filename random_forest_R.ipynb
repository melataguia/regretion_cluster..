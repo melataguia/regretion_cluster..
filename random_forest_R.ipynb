{
  "cells": [
    {
      "cell_type": "markdown",
      "metadata": {
        "id": "view-in-github",
        "colab_type": "text"
      },
      "source": [
        "<a href=\"https://colab.research.google.com/github/melataguia/regretion_cluster../blob/main/random_forest_R.ipynb\" target=\"_parent\"><img src=\"https://colab.research.google.com/assets/colab-badge.svg\" alt=\"Open In Colab\"/></a>"
      ]
    },
    {
      "cell_type": "markdown",
      "metadata": {
        "id": "9BNpF-CELNjW"
      },
      "source": [
        "# Installation des bibliothèques nécessaires"
      ]
    },
    {
      "cell_type": "code",
      "execution_count": null,
      "metadata": {
        "id": "DgC5G3bTLZPi"
      },
      "outputs": [],
      "source": [
        "getwd()\n",
        "if (!require(randomForest)) {\n",
        "  install.packages(\"randomForest\")\n",
        "}\n",
        "\n",
        "if (!require(dplyr)) {\n",
        "  install.packages(\"dplyr\")\n",
        "}\n",
        "if (!require(stringr)) {\n",
        "  install.packages(\"stringr\")\n",
        "}\n",
        "\n",
        "\n",
        "\n"
      ]
    },
    {
      "cell_type": "markdown",
      "source": [
        "# Chargement des bibliothèques nécessaires"
      ],
      "metadata": {
        "id": "h5oAFpl4TKLz"
      }
    },
    {
      "cell_type": "code",
      "execution_count": null,
      "metadata": {
        "id": "1pn6jtIHLw-4"
      },
      "outputs": [],
      "source": [
        "library(dplyr)\n",
        "library(randomForest)\n",
        "library(ggplot2)\n",
        "library(stringr)\n",
        "\n"
      ]
    },
    {
      "cell_type": "markdown",
      "metadata": {
        "id": "CeimjfSEL4rM"
      },
      "source": [
        "# Chargement la fonction combine de randomForest\n"
      ]
    },
    {
      "cell_type": "code",
      "execution_count": 5,
      "metadata": {
        "id": "ENuIWg2VMBFr"
      },
      "outputs": [],
      "source": [
        "combine <- randomForest::combine"
      ]
    },
    {
      "cell_type": "markdown",
      "metadata": {
        "id": "Qc0R-BqMMEFa"
      },
      "source": [
        "###  Lire les fichiers CSV"
      ]
    },
    {
      "cell_type": "code",
      "execution_count": 6,
      "metadata": {
        "id": "shExoQ-nMG8P"
      },
      "outputs": [],
      "source": [
        "movies_df <- read.csv('../movies.csv')\n",
        "ratings_df <- read.csv('../ratings.csv')\n",
        "#tags <- read.csv('./tags.csv')\n"
      ]
    },
    {
      "cell_type": "code",
      "source": [
        "length(ratings_df)"
      ],
      "metadata": {
        "colab": {
          "base_uri": "https://localhost:8080/",
          "height": 34
        },
        "id": "Vzas1ucSOjHk",
        "outputId": "b6eb206e-6416-403f-9f74-f77e2336b716"
      },
      "execution_count": 7,
      "outputs": [
        {
          "output_type": "display_data",
          "data": {
            "text/html": [
              "4"
            ],
            "text/markdown": "4",
            "text/latex": "4",
            "text/plain": [
              "[1] 4"
            ]
          },
          "metadata": {}
        }
      ]
    },
    {
      "cell_type": "code",
      "source": [
        "length(movies_df)"
      ],
      "metadata": {
        "colab": {
          "base_uri": "https://localhost:8080/",
          "height": 34
        },
        "id": "o2LLWTCWIdkN",
        "outputId": "a3333d6c-ebd3-404d-aaa0-333a82bb4d6d"
      },
      "execution_count": 8,
      "outputs": [
        {
          "output_type": "display_data",
          "data": {
            "text/html": [
              "3"
            ],
            "text/markdown": "3",
            "text/latex": "3",
            "text/plain": [
              "[1] 3"
            ]
          },
          "metadata": {}
        }
      ]
    },
    {
      "cell_type": "markdown",
      "metadata": {
        "id": "CrMnZ_BOmUXu"
      },
      "source": [
        "### Vérification les données manquantes"
      ]
    },
    {
      "cell_type": "code",
      "execution_count": 9,
      "metadata": {
        "colab": {
          "base_uri": "https://localhost:8080/"
        },
        "id": "QiRD9Fk_AikZ",
        "outputId": "a2ef7d74-43e2-453b-e889-a708234668d2"
      },
      "outputs": [
        {
          "output_type": "stream",
          "name": "stdout",
          "text": [
            "   userId   movieId    rating timestamp \n",
            "        0         0         0         0 \n"
          ]
        }
      ],
      "source": [
        "missing_values <- sapply(ratings_df, function(x) sum(is.na(x)))\n",
        "print(missing_values)"
      ]
    },
    {
      "cell_type": "markdown",
      "metadata": {
        "id": "PmxMMJTFMSkA"
      },
      "source": [
        "# Supprimer les lignes avec des valeurs manquantes"
      ]
    },
    {
      "cell_type": "code",
      "execution_count": 11,
      "metadata": {
        "id": "k-2NTIHu_Ecj"
      },
      "outputs": [],
      "source": [
        "ratings_df <- ratings_df[complete.cases(ratings_df), ]\n"
      ]
    },
    {
      "cell_type": "markdown",
      "metadata": {
        "id": "aWgoI0lCMeh3"
      },
      "source": [
        "##Fusionner les dataframes sur la colonne \"movieid\""
      ]
    },
    {
      "cell_type": "code",
      "source": [
        "merged_df <- merge(ratings_df, movies_df, by=\"movieId\", all.x=TRUE)"
      ],
      "metadata": {
        "id": "fPh8kQDVGFvj"
      },
      "execution_count": 12,
      "outputs": []
    },
    {
      "cell_type": "markdown",
      "source": [
        "## Sélection des colonnes pertinentes pour l'entraînement du modèle"
      ],
      "metadata": {
        "id": "HHEjaFsSGJS2"
      }
    },
    {
      "cell_type": "code",
      "source": [
        "selected_columns <- c(\"movieId\", \"userId\", \"genres\", \"rating\")\n",
        "train_data <- merged_df[selected_columns]"
      ],
      "metadata": {
        "id": "_-2ABPSiGPlu"
      },
      "execution_count": 13,
      "outputs": []
    },
    {
      "cell_type": "markdown",
      "source": [
        "#Encodage des variables catégorielles (genre)"
      ],
      "metadata": {
        "id": "1xas41REGa2y"
      }
    },
    {
      "cell_type": "markdown",
      "source": [
        "# Encodage one-hot pour la colonne \"genre\""
      ],
      "metadata": {
        "id": "0OJAsT3KGdsW"
      }
    },
    {
      "cell_type": "code",
      "source": [
        "encoded_genre <- model.matrix(~ genres - 1, data = train_data)"
      ],
      "metadata": {
        "id": "d7a6k1v1Gft9"
      },
      "execution_count": 14,
      "outputs": []
    },
    {
      "cell_type": "markdown",
      "source": [
        "# Ajout des colonnes encodées au dataframe"
      ],
      "metadata": {
        "id": "LNnZu0ZDGhrz"
      }
    },
    {
      "cell_type": "code",
      "source": [
        "train_data <- cbind(train_data, encoded_genre)"
      ],
      "metadata": {
        "id": "qRm6UPUZGje7"
      },
      "execution_count": 15,
      "outputs": []
    },
    {
      "cell_type": "markdown",
      "metadata": {
        "id": "QNIWqZ_EAviY"
      },
      "source": [
        "### Division des données en ensembles d'apprentissage et de test"
      ]
    },
    {
      "cell_type": "code",
      "execution_count": 16,
      "metadata": {
        "id": "XG6V-T1UMyn8"
      },
      "outputs": [],
      "source": [
        "set.seed(42)  # Pour la reproductibilité\n",
        "train_indices <- sample(1:nrow(train_data), 0.8 * nrow(train_data))\n",
        "train_set <- train_data[train_indices, ]\n",
        "test_set <- train_data[-train_indices, ]"
      ]
    },
    {
      "cell_type": "markdown",
      "source": [
        "#Entraînement du modèle Random Forest"
      ],
      "metadata": {
        "id": "V4j5h3YKG3eU"
      }
    },
    {
      "cell_type": "markdown",
      "source": [
        "###Séparation de la variable cible (ratings) des caractéristiques"
      ],
      "metadata": {
        "id": "BPqGbZxKG6EC"
      }
    },
    {
      "cell_type": "code",
      "source": [
        "X_train <- train_set[, c(\"movieId\", \"userId\", colnames(encoded_genre))]\n",
        "y_train <- train_set$rating"
      ],
      "metadata": {
        "id": "FttX21x9G_-W"
      },
      "execution_count": 17,
      "outputs": []
    },
    {
      "cell_type": "code",
      "source": [
        "colnames(X_train)"
      ],
      "metadata": {
        "id": "1NYRWeaWM6VF"
      },
      "execution_count": null,
      "outputs": []
    },
    {
      "cell_type": "code",
      "source": [
        "# Renommer la colonne en retirant les espaces et les caractères spéciaux\n",
        "colnames(X_train) <- make.names(colnames(X_train))"
      ],
      "metadata": {
        "id": "HdTCZ43QNKNJ"
      },
      "execution_count": 19,
      "outputs": []
    },
    {
      "cell_type": "code",
      "source": [
        "colnames(X_train)"
      ],
      "metadata": {
        "id": "ajQBBO5wZbLG"
      },
      "execution_count": null,
      "outputs": []
    },
    {
      "cell_type": "code",
      "source": [
        "unique(X_train$`genres(no genres listed)`)"
      ],
      "metadata": {
        "colab": {
          "base_uri": "https://localhost:8080/",
          "height": 34
        },
        "id": "2ATYUCIfNRMp",
        "outputId": "ec3870a2-0300-4813-955a-0cf612707d49"
      },
      "execution_count": 21,
      "outputs": [
        {
          "output_type": "display_data",
          "data": {
            "text/plain": [
              "NULL"
            ]
          },
          "metadata": {}
        }
      ]
    },
    {
      "cell_type": "markdown",
      "source": [
        "## Entraînement du modèle"
      ],
      "metadata": {
        "id": "suFyt1ueHPCw"
      }
    },
    {
      "cell_type": "code",
      "source": [
        "rf_model <- randomForest(y_train ~ ., data = X_train, ntree = 20)"
      ],
      "metadata": {
        "id": "7eeUI-9CHWHr"
      },
      "execution_count": null,
      "outputs": []
    },
    {
      "cell_type": "markdown",
      "source": [
        "#Évaluation du modèle sur l'ensemble de test"
      ],
      "metadata": {
        "id": "f-L0GAa6HW9z"
      }
    },
    {
      "cell_type": "markdown",
      "source": [
        "###Séparer la variable cible (ratings) des caractéristiques dans l'ensemble de test\n",
        "\n"
      ],
      "metadata": {
        "id": "_bwdVQp8HaiN"
      }
    },
    {
      "cell_type": "code",
      "source": [
        "X_test <- test_set[, c(\"movieid\", \"userid\", colnames(encoded_genre))]\n",
        "y_test <- test_set$ratings"
      ],
      "metadata": {
        "id": "PFORQgbgHgbr"
      },
      "execution_count": null,
      "outputs": []
    },
    {
      "cell_type": "markdown",
      "source": [
        "###Faire des prédictions\n"
      ],
      "metadata": {
        "id": "WDiPbFqoHk8Q"
      }
    },
    {
      "cell_type": "code",
      "source": [
        "predictions <- predict(rf_model, newdata = X_test)\n"
      ],
      "metadata": {
        "id": "if-A51VEHoKg"
      },
      "execution_count": null,
      "outputs": []
    },
    {
      "cell_type": "markdown",
      "source": [
        "\n",
        "###Évaluer la performance avec le RMSE\n"
      ],
      "metadata": {
        "id": "ERtWRnwoHqa8"
      }
    },
    {
      "cell_type": "code",
      "source": [
        "rmse <- sqrt(mean((predictions - y_test)^2))\n",
        "print(paste(\"RMSE sur l'ensemble de test :\", rmse))"
      ],
      "metadata": {
        "id": "-Q6pHLAkHubp"
      },
      "execution_count": null,
      "outputs": []
    }
  ],
  "metadata": {
    "colab": {
      "provenance": [],
      "machine_shape": "hm",
      "authorship_tag": "ABX9TyMOFpMBhAfdHraODJsCUO9T",
      "include_colab_link": true
    },
    "kernelspec": {
      "display_name": "R",
      "name": "ir"
    },
    "language_info": {
      "name": "R"
    }
  },
  "nbformat": 4,
  "nbformat_minor": 0
}