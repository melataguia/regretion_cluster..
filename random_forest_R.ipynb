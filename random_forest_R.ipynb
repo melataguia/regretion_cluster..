{
  "cells": [
    {
      "cell_type": "markdown",
      "metadata": {
        "id": "view-in-github",
        "colab_type": "text"
      },
      "source": [
        "<a href=\"https://colab.research.google.com/github/melataguia/regretion_cluster../blob/main/random_forest_R.ipynb\" target=\"_parent\"><img src=\"https://colab.research.google.com/assets/colab-badge.svg\" alt=\"Open In Colab\"/></a>"
      ]
    },
    {
      "cell_type": "markdown",
      "metadata": {
        "id": "9BNpF-CELNjW"
      },
      "source": [
        "# Installation des bibliothèques nécessaires si elles ne sont pas déjà installées"
      ]
    },
    {
      "cell_type": "markdown",
      "metadata": {
        "id": "4qhx57qmLdv-"
      },
      "source": [
        "# Charger les bibliothèques nécessaires"
      ]
    },
    {
      "cell_type": "code",
      "execution_count": 1,
      "metadata": {
        "id": "DgC5G3bTLZPi",
        "colab": {
          "base_uri": "https://localhost:8080/",
          "height": 593
        },
        "outputId": "face098b-ac95-4434-d8f6-a6f1a2bc0ff3"
      },
      "outputs": [
        {
          "output_type": "display_data",
          "data": {
            "text/html": [
              "'/content'"
            ],
            "text/markdown": "'/content'",
            "text/latex": "'/content'",
            "text/plain": [
              "[1] \"/content\""
            ]
          },
          "metadata": {}
        },
        {
          "output_type": "stream",
          "name": "stderr",
          "text": [
            "Loading required package: randomForest\n",
            "\n",
            "Warning message in library(package, lib.loc = lib.loc, character.only = TRUE, logical.return = TRUE, :\n",
            "“there is no package called ‘randomForest’”\n",
            "Installing package into ‘/usr/local/lib/R/site-library’\n",
            "(as ‘lib’ is unspecified)\n",
            "\n",
            "Loading required package: caret\n",
            "\n",
            "Warning message in library(package, lib.loc = lib.loc, character.only = TRUE, logical.return = TRUE, :\n",
            "“there is no package called ‘caret’”\n",
            "Installing package into ‘/usr/local/lib/R/site-library’\n",
            "(as ‘lib’ is unspecified)\n",
            "\n",
            "also installing the dependencies ‘listenv’, ‘parallelly’, ‘future’, ‘globals’, ‘shape’, ‘future.apply’, ‘numDeriv’, ‘progressr’, ‘SQUAREM’, ‘diagram’, ‘lava’, ‘prodlim’, ‘proxy’, ‘iterators’, ‘Rcpp’, ‘clock’, ‘gower’, ‘hardhat’, ‘ipred’, ‘timeDate’, ‘e1071’, ‘foreach’, ‘ModelMetrics’, ‘plyr’, ‘pROC’, ‘recipes’, ‘reshape2’\n",
            "\n",
            "\n",
            "Loading required package: doParallel\n",
            "\n",
            "Warning message in library(package, lib.loc = lib.loc, character.only = TRUE, logical.return = TRUE, :\n",
            "“there is no package called ‘doParallel’”\n",
            "Installing package into ‘/usr/local/lib/R/site-library’\n",
            "(as ‘lib’ is unspecified)\n",
            "\n",
            "Loading required package: files\n",
            "\n",
            "Warning message in library(package, lib.loc = lib.loc, character.only = TRUE, logical.return = TRUE, :\n",
            "“there is no package called ‘files’”\n",
            "Installing package into ‘/usr/local/lib/R/site-library’\n",
            "(as ‘lib’ is unspecified)\n",
            "\n"
          ]
        }
      ],
      "source": [
        "getwd()\n",
        "if (!require(randomForest)) {\n",
        "  install.packages(\"randomForest\")\n",
        "}\n",
        "\n",
        "if (!require(caret)) {\n",
        "  install.packages(\"caret\")\n",
        "}\n",
        "if (!require(doParallel)) {\n",
        "  install.packages(\"doParallel\")\n",
        "}\n",
        "if (!require(files)) {\n",
        "  install.packages(\"files\")\n",
        "}\n",
        "\n",
        "\n"
      ]
    },
    {
      "cell_type": "code",
      "source": [
        "# Install and load the tensorflow package\n",
        "if (!require(tensorflow)) {\n",
        "  install.packages(\"tensorflow\")\n",
        "}\n",
        "library(tensorflow)\n",
        "\n",
        "# Check for GPU devices\n",
        "cat(\"GPU devices:\")\n",
        "print(tf$config$experimental$list_physical_devices(\"GPU\"))\n"
      ],
      "metadata": {
        "id": "iW_pTu0EgVnq",
        "colab": {
          "base_uri": "https://localhost:8080/"
        },
        "outputId": "263b8b63-204c-4cd3-e78d-93614c4862ab"
      },
      "execution_count": 2,
      "outputs": [
        {
          "output_type": "stream",
          "name": "stderr",
          "text": [
            "Loading required package: tensorflow\n",
            "\n",
            "Warning message in library(package, lib.loc = lib.loc, character.only = TRUE, logical.return = TRUE, :\n",
            "“there is no package called ‘tensorflow’”\n",
            "Installing package into ‘/usr/local/lib/R/site-library’\n",
            "(as ‘lib’ is unspecified)\n",
            "\n",
            "also installing the dependencies ‘RcppTOML’, ‘here’, ‘png’, ‘config’, ‘reticulate’, ‘tfruns’, ‘tfautograph’\n",
            "\n",
            "\n"
          ]
        },
        {
          "output_type": "stream",
          "name": "stdout",
          "text": [
            "GPU devices:list()\n"
          ]
        }
      ]
    },
    {
      "cell_type": "code",
      "execution_count": 2,
      "metadata": {
        "id": "1pn6jtIHLw-4",
        "colab": {
          "base_uri": "https://localhost:8080/",
          "height": 939
        },
        "outputId": "382e06ff-b494-4af4-92ac-a9e1ffb84d31"
      },
      "outputs": [
        {
          "output_type": "stream",
          "name": "stderr",
          "text": [
            "\n",
            "Attaching package: ‘dplyr’\n",
            "\n",
            "\n",
            "The following objects are masked from ‘package:stats’:\n",
            "\n",
            "    filter, lag\n",
            "\n",
            "\n",
            "The following objects are masked from ‘package:base’:\n",
            "\n",
            "    intersect, setdiff, setequal, union\n",
            "\n",
            "\n",
            "randomForest 4.7-1.1\n",
            "\n",
            "Type rfNews() to see new features/changes/bug fixes.\n",
            "\n",
            "\n",
            "Attaching package: ‘randomForest’\n",
            "\n",
            "\n",
            "The following object is masked from ‘package:dplyr’:\n",
            "\n",
            "    combine\n",
            "\n",
            "\n",
            "Loading required package: ggplot2\n",
            "\n",
            "\n",
            "Attaching package: ‘ggplot2’\n",
            "\n",
            "\n",
            "The following object is masked from ‘package:randomForest’:\n",
            "\n",
            "    margin\n",
            "\n",
            "\n",
            "Loading required package: lattice\n",
            "\n",
            "Loading required package: foreach\n",
            "\n",
            "Loading required package: iterators\n",
            "\n",
            "Loading required package: parallel\n",
            "\n"
          ]
        },
        {
          "output_type": "error",
          "ename": "ERROR",
          "evalue": "Error in library(tensorflow): there is no package called ‘tensorflow’\n",
          "traceback": [
            "Error in library(tensorflow): there is no package called ‘tensorflow’\nTraceback:\n",
            "1. library(tensorflow)"
          ]
        }
      ],
      "source": [
        "library(dplyr)\n",
        "library(randomForest)\n",
        "library(caret)\n",
        "library(ggplot2)\n",
        "library(doParallel)\n",
        "library(tensorflow)\n"
      ]
    },
    {
      "cell_type": "markdown",
      "metadata": {
        "id": "CeimjfSEL4rM"
      },
      "source": [
        "# Charger la fonction combine de randomForest\n"
      ]
    },
    {
      "cell_type": "code",
      "execution_count": 3,
      "metadata": {
        "id": "ENuIWg2VMBFr"
      },
      "outputs": [],
      "source": [
        "combine <- randomForest::combine"
      ]
    },
    {
      "cell_type": "markdown",
      "metadata": {
        "id": "Qc0R-BqMMEFa"
      },
      "source": [
        "###  Lire le fichier CSV"
      ]
    },
    {
      "cell_type": "code",
      "execution_count": 16,
      "metadata": {
        "id": "shExoQ-nMG8P"
      },
      "outputs": [],
      "source": [
        "#movies <- read.csv('./movies.csv')\n",
        "ratings <- read.csv('../ratings.csv')\n",
        "#tags <- read.csv('./tags.csv')\n"
      ]
    },
    {
      "cell_type": "code",
      "source": [
        "ratings$rating <- as.numeric(as.character(ratings$rating))"
      ],
      "metadata": {
        "id": "oOHnxFY9ObNT"
      },
      "execution_count": 5,
      "outputs": []
    },
    {
      "cell_type": "code",
      "execution_count": 17,
      "metadata": {
        "id": "QKPwmKnrSFvO",
        "colab": {
          "base_uri": "https://localhost:8080/"
        },
        "outputId": "3c1b39da-9659-47f1-dc32-d7bf1bc35a25"
      },
      "outputs": [
        {
          "output_type": "stream",
          "name": "stdout",
          "text": [
            "'data.frame':\t158589 obs. of  4 variables:\n",
            " $ userId   : int  1 1 1 1 1 1 1 1 1 1 ...\n",
            " $ movieId  : num  1 3 6 47 50 70 101 110 151 157 ...\n",
            " $ rating   : num  4 4 4 5 5 3 5 4 5 5 ...\n",
            " $ timestamp: int  964982703 964981247 964982224 964983815 964982931 964982400 964980868 964982176 964984041 964984100 ...\n"
          ]
        }
      ],
      "source": [
        "str(ratings)"
      ]
    },
    {
      "cell_type": "code",
      "source": [
        "length(ratings)"
      ],
      "metadata": {
        "colab": {
          "base_uri": "https://localhost:8080/",
          "height": 34
        },
        "id": "Vzas1ucSOjHk",
        "outputId": "5a62a833-ffa6-481f-d4d3-dc617ed7c2df"
      },
      "execution_count": 18,
      "outputs": [
        {
          "output_type": "display_data",
          "data": {
            "text/html": [
              "4"
            ],
            "text/markdown": "4",
            "text/latex": "4",
            "text/plain": [
              "[1] 4"
            ]
          },
          "metadata": {}
        }
      ]
    },
    {
      "cell_type": "markdown",
      "metadata": {
        "id": "CrMnZ_BOmUXu"
      },
      "source": [
        "### Vérifier les données manquantes"
      ]
    },
    {
      "cell_type": "code",
      "execution_count": 19,
      "metadata": {
        "colab": {
          "base_uri": "https://localhost:8080/"
        },
        "id": "QiRD9Fk_AikZ",
        "outputId": "2ee6eaf3-6e04-42c1-d88c-cf3fb6cdee73"
      },
      "outputs": [
        {
          "output_type": "stream",
          "name": "stdout",
          "text": [
            "   userId   movieId    rating timestamp \n",
            "        0         0         0         2 \n"
          ]
        }
      ],
      "source": [
        "missing_values <- sapply(ratings, function(x) sum(is.na(x)))\n",
        "print(missing_values)"
      ]
    },
    {
      "cell_type": "markdown",
      "metadata": {
        "id": "PmxMMJTFMSkA"
      },
      "source": [
        "# Supprimer les lignes avec des valeurs manquantes si nécessaire"
      ]
    },
    {
      "cell_type": "code",
      "execution_count": 20,
      "metadata": {
        "id": "k-2NTIHu_Ecj"
      },
      "outputs": [],
      "source": [
        "ratings <- ratings[complete.cases(ratings), ]\n"
      ]
    },
    {
      "cell_type": "markdown",
      "metadata": {
        "id": "aWgoI0lCMeh3"
      },
      "source": [
        "# Autres traitement sur les donnees\n",
        "# Gérer les valeurs aberrantes si nécessaire\n",
        "# ...\n",
        "\n",
        "# Créer des caractéristiques supplémentaires si nécessaire\n",
        "# ...\n"
      ]
    },
    {
      "cell_type": "markdown",
      "metadata": {
        "id": "QNIWqZ_EAviY"
      },
      "source": [
        "### Diviser les données en ensembles d'apprentissage et de test"
      ]
    },
    {
      "cell_type": "code",
      "execution_count": 21,
      "metadata": {
        "id": "XG6V-T1UMyn8"
      },
      "outputs": [],
      "source": [
        "set.seed(123)  # Pour la reproductibilité"
      ]
    },
    {
      "cell_type": "markdown",
      "metadata": {
        "id": "R1wj8yChF9fl"
      },
      "source": [
        "### Définir la proportion d'observations pour l'ensemble de test (par exemple, 30%)\n"
      ]
    },
    {
      "cell_type": "code",
      "execution_count": 11,
      "metadata": {
        "id": "nnlgeNNoFnqX"
      },
      "outputs": [],
      "source": [
        "#p <- 0.09"
      ]
    },
    {
      "cell_type": "markdown",
      "metadata": {
        "id": "aXjHLXV1GEDk"
      },
      "source": [
        "### Sélectionner les indices aléatoires pour l'ensemble de test\n"
      ]
    },
    {
      "cell_type": "code",
      "execution_count": 22,
      "metadata": {
        "id": "IZWTeBWPGHvT"
      },
      "outputs": [],
      "source": [
        "index <- createDataPartition(ratings$rating, p = 0.007, list = FALSE)"
      ]
    },
    {
      "cell_type": "code",
      "source": [
        "length(index)"
      ],
      "metadata": {
        "colab": {
          "base_uri": "https://localhost:8080/",
          "height": 34
        },
        "id": "RN2JZZE5Oc-t",
        "outputId": "c7312498-5024-46c6-d5da-d9398487fb6d"
      },
      "execution_count": 23,
      "outputs": [
        {
          "output_type": "display_data",
          "data": {
            "text/html": [
              "1112"
            ],
            "text/markdown": "1112",
            "text/latex": "1112",
            "text/plain": [
              "[1] 1112"
            ]
          },
          "metadata": {}
        }
      ]
    },
    {
      "cell_type": "markdown",
      "metadata": {
        "id": "2WOu0_nBM3vN"
      },
      "source": [
        "# # Créer les ensembles d'entraînement et de test"
      ]
    },
    {
      "cell_type": "code",
      "execution_count": 24,
      "metadata": {
        "id": "c07xACqWM9Cr"
      },
      "outputs": [],
      "source": [
        "train_index <- sample(index, 0.7 * length(index))\n",
        "train_data <- ratings[-train_index, ]\n"
      ]
    },
    {
      "cell_type": "code",
      "source": [
        "length(train_index)"
      ],
      "metadata": {
        "colab": {
          "base_uri": "https://localhost:8080/",
          "height": 34
        },
        "id": "Wx0ZuXt-P1Fd",
        "outputId": "9d35c33c-2f5e-4c31-924f-2db47b9524f6"
      },
      "execution_count": 25,
      "outputs": [
        {
          "output_type": "display_data",
          "data": {
            "text/html": [
              "778"
            ],
            "text/markdown": "778",
            "text/latex": "778",
            "text/plain": [
              "[1] 778"
            ]
          },
          "metadata": {}
        }
      ]
    },
    {
      "cell_type": "markdown",
      "metadata": {
        "id": "RghhIj15yocf"
      },
      "source": [
        "\n",
        "### Sélectionner 10% des données pour l'ensemble de test\n"
      ]
    },
    {
      "cell_type": "code",
      "execution_count": 26,
      "metadata": {
        "id": "rNoRJYwCyru4"
      },
      "outputs": [],
      "source": [
        "test_index <- setdiff(index, train_index)\n",
        "test_data <- ratings[test_index, ]"
      ]
    },
    {
      "cell_type": "code",
      "source": [
        "length(test_index)"
      ],
      "metadata": {
        "colab": {
          "base_uri": "https://localhost:8080/",
          "height": 34
        },
        "id": "wRUTC0p6QNOn",
        "outputId": "2b0080f2-eeec-4f23-85cb-134d1acddae7"
      },
      "execution_count": 27,
      "outputs": [
        {
          "output_type": "display_data",
          "data": {
            "text/html": [
              "334"
            ],
            "text/markdown": "334",
            "text/latex": "334",
            "text/plain": [
              "[1] 334"
            ]
          },
          "metadata": {}
        }
      ]
    },
    {
      "cell_type": "markdown",
      "metadata": {
        "id": "qgCTbWQxvTxo"
      },
      "source": [
        "### Configuration de la parallélisation\n"
      ]
    },
    {
      "cell_type": "code",
      "execution_count": 28,
      "metadata": {
        "id": "HYPguL-8vYI9"
      },
      "outputs": [],
      "source": [
        "cl <- makeCluster(detectCores())\n",
        "registerDoParallel(cl)"
      ]
    },
    {
      "cell_type": "markdown",
      "metadata": {
        "id": "BpR9PLGPNBFm"
      },
      "source": [
        "## Création du modèle Random Forest avec parrallelisation\n"
      ]
    },
    {
      "cell_type": "code",
      "execution_count": 29,
      "metadata": {
        "id": "g-kQCfw4NIT6"
      },
      "outputs": [],
      "source": [
        "rf_model <- randomForest(rating ~ ., data = train_data, ntree = 5, ncores = getDoParWorkers())"
      ]
    },
    {
      "cell_type": "markdown",
      "metadata": {
        "id": "yhTfDsccvtcm"
      },
      "source": [
        "### Arrêter le cluster parallèle\n"
      ]
    },
    {
      "cell_type": "code",
      "execution_count": 30,
      "metadata": {
        "id": "WZ_2mJQJvvuO"
      },
      "outputs": [],
      "source": [
        "stopCluster(cl)"
      ]
    },
    {
      "cell_type": "markdown",
      "metadata": {
        "id": "qTMKxN38NK9-"
      },
      "source": [
        "# Faire des prédictions sur l'ensemble de test\n"
      ]
    },
    {
      "cell_type": "code",
      "execution_count": 31,
      "metadata": {
        "id": "mzJEEjc3NNVe"
      },
      "outputs": [],
      "source": [
        "predictions <- predict(rf_model, newdata = test_data)\n",
        "\n"
      ]
    },
    {
      "cell_type": "markdown",
      "metadata": {
        "id": "DdxlplqpNP91"
      },
      "source": [
        "# Évaluer les performances du modèle (par exemple, RMSE)\n"
      ]
    },
    {
      "cell_type": "code",
      "execution_count": 32,
      "metadata": {
        "id": "yHCnPc62NRmJ",
        "colab": {
          "base_uri": "https://localhost:8080/"
        },
        "outputId": "13d0c777-75db-4684-8030-15e47dd36549"
      },
      "outputs": [
        {
          "output_type": "stream",
          "name": "stdout",
          "text": [
            "[1] \"RMSE: 0.603716008039255\"\n"
          ]
        }
      ],
      "source": [
        "rmse <- sqrt(mean((predictions - test_data$rating)^2))\n",
        "print(paste(\"RMSE:\", rmse))"
      ]
    },
    {
      "cell_type": "markdown",
      "source": [
        "####Affiche les valeurs prédites par votre modèle par rapport aux valeurs réelles. Cela peut vous donner une idée visuelle de la précision du modèle."
      ],
      "metadata": {
        "id": "SK-EKaXBVtQl"
      }
    },
    {
      "cell_type": "code",
      "source": [
        "plot(test_data$rating, predictions, main = \"Prédiction vs Observations\",\n",
        "     xlab = \"Observations réelles\", ylab = \"Prédictions du modèle\")\n",
        "abline(0, 1, col = \"red\")  # Ajoute une ligne diagonale pour une prédiction parfaite\n"
      ],
      "metadata": {
        "colab": {
          "base_uri": "https://localhost:8080/",
          "height": 437
        },
        "id": "S-UiH3PVVl-c",
        "outputId": "e636920a-e3a1-44e9-b3d8-a4b15b190c7e"
      },
      "execution_count": 33,
      "outputs": [
        {
          "output_type": "display_data",
          "data": {
            "text/plain": [
              "Plot with title “Prédiction vs Observations”"
            ],
            "image/png": "[encoded data removed]"
          },
          "metadata": {
            "image/png": {
              "width": 420,
              "height": 420
            }
          }
        }
      ]
    },
    {
      "cell_type": "markdown",
      "source": [
        "### Un histogramme des résidus peut vous montrer la distribution des erreurs du modèle."
      ],
      "metadata": {
        "id": "6aMysmwfVwAR"
      }
    },
    {
      "cell_type": "code",
      "source": [
        "residuals <- test_data$rating - predictions\n",
        "hist(residuals, main = \"Histogramme des Résidus\", xlab = \"Résidus\")\n"
      ],
      "metadata": {
        "colab": {
          "base_uri": "https://localhost:8080/",
          "height": 437
        },
        "id": "EvAHtCgGVz2F",
        "outputId": "dbecff6d-bb9b-454b-913c-784afe222d8a"
      },
      "execution_count": 34,
      "outputs": [
        {
          "output_type": "display_data",
          "data": {
            "text/plain": [
              "Plot with title “Histogramme des Résidus”"
            ],
            "image/png": "[encoded data removed]"
          },
          "metadata": {
            "image/png": {
              "width": 420,
              "height": 420
            }
          }
        }
      ]
    }
  ],
  "metadata": {
    "colab": {
      "provenance": [],
      "machine_shape": "hm",
      "authorship_tag": "ABX9TyMEecVP9L0x8IPeB1PZbeJc",
      "include_colab_link": true
    },
    "kernelspec": {
      "display_name": "R",
      "name": "ir"
    },
    "language_info": {
      "name": "R"
    }
  },
  "nbformat": 4,
  "nbformat_minor": 0
}