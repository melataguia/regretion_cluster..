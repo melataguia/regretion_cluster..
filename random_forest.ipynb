{
  "nbformat": 4,
  "nbformat_minor": 0,
  "metadata": {
    "colab": {
      "provenance": [],
      "authorship_tag": "ABX9TyOsFB8jlozSem2Cf17TfnX/",
      "include_colab_link": true
    },
    "kernelspec": {
      "name": "ir",
      "display_name": "R"
    },
    "language_info": {
      "name": "R"
    }
  },
  "cells": [
    {
      "cell_type": "markdown",
      "metadata": {
        "id": "view-in-github",
        "colab_type": "text"
      },
      "source": [
        "<a href=\"https://colab.research.google.com/github/melataguia/regretion_cluster../blob/main/random_forest.ipynb\" target=\"_parent\"><img src=\"https://colab.research.google.com/assets/colab-badge.svg\" alt=\"Open In Colab\"/></a>"
      ]
    },
    {
      "cell_type": "markdown",
      "source": [
        "# Installation des bibliothèques nécessaires si elles ne sont pas déjà installées"
      ],
      "metadata": {
        "id": "9BNpF-CELNjW"
      }
    },
    {
      "cell_type": "code",
      "source": [
        "getwd()\n",
        "if (!require(randomForest)) {\n",
        "  install.packages(\"randomForest\")\n",
        "}\n",
        "\n",
        "if (!require(caret)) {\n",
        "  install.packages(\"caret\")\n",
        "}"
      ],
      "metadata": {
        "id": "DgC5G3bTLZPi"
      },
      "execution_count": null,
      "outputs": []
    },
    {
      "cell_type": "markdown",
      "source": [
        "# Charger les bibliothèques nécessaires"
      ],
      "metadata": {
        "id": "4qhx57qmLdv-"
      }
    },
    {
      "cell_type": "code",
      "source": [
        "library(dplyr)\n",
        "library(randomForest)\n",
        "library(caret)"
      ],
      "metadata": {
        "id": "1pn6jtIHLw-4"
      },
      "execution_count": null,
      "outputs": []
    },
    {
      "cell_type": "markdown",
      "source": [
        "# Charger la fonction combine de randomForest\n"
      ],
      "metadata": {
        "id": "CeimjfSEL4rM"
      }
    },
    {
      "cell_type": "code",
      "source": [
        "combine <- randomForest::combine"
      ],
      "metadata": {
        "id": "ENuIWg2VMBFr"
      },
      "execution_count": null,
      "outputs": []
    },
    {
      "cell_type": "markdown",
      "source": [
        "# Charger les données"
      ],
      "metadata": {
        "id": "Qc0R-BqMMEFa"
      }
    },
    {
      "cell_type": "code",
      "source": [
        "movies <- read.csv(\"D:/Cours ULB/Stic-2/Memoire/Donnees movilens/ml-25m/movies.csv\")\n",
        "ratings <- read.csv(\"D:/Cours ULB/Stic-2/Memoire/Donnees movilens/ml-25m/ratings.csv\")\n",
        "genome_scores <- read.csv(\"D:/Cours ULB/Stic-2/Memoire/Donnees movilens/ml-25m/genome-scores.csv\")\n",
        "genome_tags <- read.csv(\"D:/Cours ULB/Stic-2/Memoire/Donnees movilens/ml-25m/genome-tags.csv\")\n",
        "links <- read.csv(\"D:/Cours ULB/Stic-2/Memoire/Donnees movilens/ml-25m/links.csv\")\n",
        "tags <- read.csv(\"D:/Cours ULB/Stic-2/Memoire/Donnees movilens/ml-25m/tags.csv\")"
      ],
      "metadata": {
        "id": "shExoQ-nMG8P"
      },
      "execution_count": null,
      "outputs": []
    },
    {
      "cell_type": "markdown",
      "source": [
        "# Vérifier les données manquantes"
      ],
      "metadata": {
        "id": "h6n2mmSjMK7z"
      }
    },
    {
      "cell_type": "code",
      "source": [
        "missing_values <- sapply(ratings, function(x) sum(is.na(x)))\n",
        "print(missing_values)"
      ],
      "metadata": {
        "id": "8K7wz3bLMPoJ"
      },
      "execution_count": null,
      "outputs": []
    },
    {
      "cell_type": "markdown",
      "source": [
        "# Supprimer les lignes avec des valeurs manquantes si nécessaire"
      ],
      "metadata": {
        "id": "PmxMMJTFMSkA"
      }
    },
    {
      "cell_type": "code",
      "source": [
        "ratings <- ratings[complete.cases(ratings), ]"
      ],
      "metadata": {
        "id": "OR-Fs3YGMZX6"
      },
      "execution_count": null,
      "outputs": []
    },
    {
      "cell_type": "markdown",
      "source": [
        "# Autres traitement sur les donnees\n",
        "# Gérer les valeurs aberrantes si nécessaire\n",
        "# ...\n",
        "\n",
        "# Créer des caractéristiques supplémentaires si nécessaire\n",
        "# ...\n"
      ],
      "metadata": {
        "id": "aWgoI0lCMeh3"
      }
    },
    {
      "cell_type": "markdown",
      "source": [
        "# Diviser les données en ensembles d'apprentissage et de test"
      ],
      "metadata": {
        "id": "Az4a_y6pMseL"
      }
    },
    {
      "cell_type": "code",
      "source": [
        "set.seed(123)  # Pour la reproductibilité"
      ],
      "metadata": {
        "id": "XG6V-T1UMyn8"
      },
      "execution_count": null,
      "outputs": []
    },
    {
      "cell_type": "markdown",
      "source": [
        "# Utiliser sample.split pour un échantillonnage stratifié avec 30% des données"
      ],
      "metadata": {
        "id": "2WOu0_nBM3vN"
      }
    },
    {
      "cell_type": "code",
      "source": [
        "index <- sample(1:nrow(ratings), 0.3 * nrow(ratings))\n",
        "train_data <- ratings[-index, ]\n",
        "test_data <- ratings[index, ]"
      ],
      "metadata": {
        "id": "c07xACqWM9Cr"
      },
      "execution_count": null,
      "outputs": []
    },
    {
      "cell_type": "markdown",
      "source": [
        "# Créer le modèle Random Forest\n"
      ],
      "metadata": {
        "id": "BpR9PLGPNBFm"
      }
    },
    {
      "cell_type": "code",
      "source": [
        "rf_model <- randomForest(rating ~ ., data = train_data, ntree = 50)\n",
        "\n"
      ],
      "metadata": {
        "id": "g-kQCfw4NIT6"
      },
      "execution_count": null,
      "outputs": []
    },
    {
      "cell_type": "markdown",
      "source": [
        "# Faire des prédictions sur l'ensemble de test\n"
      ],
      "metadata": {
        "id": "qTMKxN38NK9-"
      }
    },
    {
      "cell_type": "code",
      "source": [
        "predictions <- predict(rf_model, newdata = test_data)\n",
        "\n"
      ],
      "metadata": {
        "id": "mzJEEjc3NNVe"
      },
      "execution_count": null,
      "outputs": []
    },
    {
      "cell_type": "markdown",
      "source": [
        "# Évaluer les performances du modèle (par exemple, RMSE)\n"
      ],
      "metadata": {
        "id": "DdxlplqpNP91"
      }
    },
    {
      "cell_type": "code",
      "source": [
        "rmse <- sqrt(mean((predictions - test_data$rating)^2))\n",
        "print(paste(\"RMSE:\", rmse))"
      ],
      "metadata": {
        "id": "yHCnPc62NRmJ"
      },
      "execution_count": null,
      "outputs": []
    }
  ]
}