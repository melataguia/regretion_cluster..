{
  "nbformat": 4,
  "nbformat_minor": 0,
  "metadata": {
    "colab": {
      "provenance": [],
      "authorship_tag": "ABX9TyOSVBa5CFbq+ivgy4OWw5a6",
      "include_colab_link": true
    },
    "kernelspec": {
      "name": "ir",
      "display_name": "R"
    },
    "language_info": {
      "name": "R"
    }
  },
  "cells": [
    {
      "cell_type": "markdown",
      "metadata": {
        "id": "view-in-github",
        "colab_type": "text"
      },
      "source": [
        "<a href=\"https://colab.research.google.com/github/melataguia/regretion_cluster../blob/main/random_forest.ipynb\" target=\"_parent\"><img src=\"https://colab.research.google.com/assets/colab-badge.svg\" alt=\"Open In Colab\"/></a>"
      ]
    },
    {
      "cell_type": "markdown",
      "source": [
        "# Installation des bibliothèques nécessaires si elles ne sont pas déjà installées"
      ],
      "metadata": {
        "id": "9BNpF-CELNjW"
      }
    },
    {
      "cell_type": "code",
      "source": [
        "getwd()\n",
        "if (!require(randomForest)) {\n",
        "  install.packages(\"randomForest\")\n",
        "}\n",
        "\n",
        "if (!require(caret)) {\n",
        "  install.packages(\"caret\")\n",
        "}"
      ],
      "metadata": {
        "id": "DgC5G3bTLZPi"
      },
      "execution_count": null,
      "outputs": []
    },
    {
      "cell_type": "markdown",
      "source": [
        "# Charger les bibliothèques nécessaires"
      ],
      "metadata": {
        "id": "4qhx57qmLdv-"
      }
    },
    {
      "cell_type": "code",
      "source": [
        "library(dplyr)\n",
        "library(randomForest)\n",
        "library(caret)"
      ],
      "metadata": {
        "id": "1pn6jtIHLw-4"
      },
      "execution_count": null,
      "outputs": []
    },
    {
      "cell_type": "markdown",
      "source": [
        "# Charger la fonction combine de randomForest\n"
      ],
      "metadata": {
        "id": "CeimjfSEL4rM"
      }
    },
    {
      "cell_type": "code",
      "source": [
        "combine <- randomForest::combine"
      ],
      "metadata": {
        "id": "ENuIWg2VMBFr"
      },
      "execution_count": null,
      "outputs": []
    },
    {
      "cell_type": "markdown",
      "source": [
        "# Charger les données"
      ],
      "metadata": {
        "id": "Qc0R-BqMMEFa"
      }
    },
    {
      "cell_type": "code",
      "source": [
        "movies <- read.csv(\"D:/Cours ULB/Stic-2/Memoire/Donnees movilens/ml-25m/movies.csv\")\n",
        "ratings <- read.csv(\"D:/Cours ULB/Stic-2/Memoire/Donnees movilens/ml-25m/ratings.csv\")\n",
        "genome_scores <- read.csv(\"D:/Cours ULB/Stic-2/Memoire/Donnees movilens/ml-25m/genome-scores.csv\")\n",
        "genome_tags <- read.csv(\"D:/Cours ULB/Stic-2/Memoire/Donnees movilens/ml-25m/genome-tags.csv\")\n",
        "links <- read.csv(\"D:/Cours ULB/Stic-2/Memoire/Donnees movilens/ml-25m/links.csv\")\n",
        "tags <- read.csv(\"D:/Cours ULB/Stic-2/Memoire/Donnees movilens/ml-25m/tags.csv\")"
      ],
      "metadata": {
        "id": "shExoQ-nMG8P"
      },
      "execution_count": null,
      "outputs": []
    }
  ]
}