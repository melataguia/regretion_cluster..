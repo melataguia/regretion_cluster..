{
  "nbformat": 4,
  "nbformat_minor": 0,
  "metadata": {
    "colab": {
      "provenance": [],
      "machine_shape": "hm",
      "authorship_tag": "ABX9TyNmAHZdgr3HDToMHMGFRA9n",
      "include_colab_link": true
    },
    "kernelspec": {
      "name": "ir",
      "display_name": "R"
    },
    "language_info": {
      "name": "R"
    }
  },
  "cells": [
    {
      "cell_type": "markdown",
      "metadata": {
        "id": "view-in-github",
        "colab_type": "text"
      },
      "source": [
        "<a href=\"https://colab.research.google.com/github/melataguia/regretion_cluster../blob/main/r%C3%A9gression_statistique.ipynb\" target=\"_parent\"><img src=\"https://colab.research.google.com/assets/colab-badge.svg\" alt=\"Open In Colab\"/></a>"
      ]
    },
    {
      "cell_type": "markdown",
      "source": [
        "# Installation de la bibliothèque Keras"
      ],
      "metadata": {
        "id": "g5tjNlkH_sSy"
      }
    },
    {
      "cell_type": "code",
      "source": [
        "if (!require(keras)) {\n",
        "  install.packages(\"keras\")\n",
        "}\n",
        "if (!require(tensorflow)) {\n",
        "  install.packages(\"tensorflow\")\n",
        "}\n"
      ],
      "metadata": {
        "id": "notw76bq_tha"
      },
      "execution_count": null,
      "outputs": []
    },
    {
      "cell_type": "markdown",
      "source": [
        "# Charger les bibliothèques nécessaires"
      ],
      "metadata": {
        "id": "9-TuINKS_vmf"
      }
    },
    {
      "cell_type": "code",
      "source": [
        "library(keras)"
      ],
      "metadata": {
        "id": "JYyZNn4E_xbk"
      },
      "execution_count": null,
      "outputs": []
    },
    {
      "cell_type": "markdown",
      "source": [
        "# Charger les données MovieLens (ajuster le chemin selon votre configuration)"
      ],
      "metadata": {
        "id": "AlgHz220_zvX"
      }
    },
    {
      "cell_type": "code",
      "source": [
        "#movies <- read.csv('./movies.csv')\n",
        "ratings <- read.csv('../ratings.csv')\n",
        "#tags <- read.csv('./tags.csv')"
      ],
      "metadata": {
        "id": "huRnupVx_19k"
      },
      "execution_count": null,
      "outputs": []
    },
    {
      "cell_type": "markdown",
      "source": [
        "# Vérifier les données manquantes"
      ],
      "metadata": {
        "id": "_er4R7eu_4L_"
      }
    },
    {
      "cell_type": "code",
      "source": [
        "missing_values <- sapply(ratings, function(x) sum(is.na(x)))\n",
        "print(missing_values)"
      ],
      "metadata": {
        "id": "wf1lphkB_7xB"
      },
      "execution_count": null,
      "outputs": []
    },
    {
      "cell_type": "markdown",
      "source": [
        "# Supprimer les lignes avec des valeurs manquantes si nécessaire"
      ],
      "metadata": {
        "id": "7hKLpxHh_9_l"
      }
    },
    {
      "cell_type": "code",
      "source": [
        "ratings <- ratings[complete.cases(ratings), ]"
      ],
      "metadata": {
        "id": "cxW5lKl3AAOf"
      },
      "execution_count": null,
      "outputs": []
    },
    {
      "cell_type": "markdown",
      "source": [
        "# Diviser les données en ensembles d'apprentissage et de test"
      ],
      "metadata": {
        "id": "qv4sgL7YADd-"
      }
    },
    {
      "cell_type": "code",
      "source": [
        "set.seed(123)  # Pour la reproductibilité\n",
        "train_indices <- sample(1:nrow(ratings), 0.8 * nrow(ratings))\n",
        "train_data <- ratings[train_indices, ]\n",
        "test_data <- ratings[-train_indices, ]"
      ],
      "metadata": {
        "id": "DFP_FQxKAED8"
      },
      "execution_count": null,
      "outputs": []
    },
    {
      "cell_type": "markdown",
      "source": [
        "# Modélisation de la régression linéaire"
      ],
      "metadata": {
        "id": "zDpTxjTAH3BJ"
      }
    },
    {
      "cell_type": "code",
      "source": [
        "linear_model <- lm(rating ~ ., data = train_data)"
      ],
      "metadata": {
        "id": "36XJwfJgH6Ps"
      },
      "execution_count": null,
      "outputs": []
    },
    {
      "cell_type": "markdown",
      "source": [
        "# Résumé des résultats du modèle"
      ],
      "metadata": {
        "id": "cEk8beO7J7MQ"
      }
    },
    {
      "cell_type": "code",
      "source": [
        "summary(linear_model)"
      ],
      "metadata": {
        "id": "cLmse7WkAIuA"
      },
      "execution_count": null,
      "outputs": []
    },
    {
      "cell_type": "markdown",
      "source": [
        "# Faire des prédictions sur l'ensemble de test"
      ],
      "metadata": {
        "id": "YhtkQRtGIb0F"
      }
    },
    {
      "cell_type": "code",
      "source": [
        "predictions <- predict(linear_model, newdata = test_data)\n"
      ],
      "metadata": {
        "id": "21GLQQIGIdp6"
      },
      "execution_count": null,
      "outputs": []
    },
    {
      "cell_type": "markdown",
      "source": [
        "\n",
        "# Évaluer les performances du modèle (par exemple, RMSE)"
      ],
      "metadata": {
        "id": "Q68Hd1Y1IifR"
      }
    },
    {
      "cell_type": "code",
      "source": [
        "rmse <- sqrt(mean((predictions - test_data$rating)^2))\n",
        "print(paste(\"RMSE:\", rmse))"
      ],
      "metadata": {
        "id": "rQ6ez9SCIjMc"
      },
      "execution_count": null,
      "outputs": []
    }
  ]
}