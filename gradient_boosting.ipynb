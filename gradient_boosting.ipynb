{
  "nbformat": 4,
  "nbformat_minor": 0,
  "metadata": {
    "colab": {
      "provenance": [],
      "machine_shape": "hm",
      "authorship_tag": "ABX9TyP+RM4YXXKd/2lplJSxHpCr",
      "include_colab_link": true
    },
    "kernelspec": {
      "name": "ir",
      "display_name": "R"
    },
    "language_info": {
      "name": "R"
    }
  },
  "cells": [
    {
      "cell_type": "markdown",
      "metadata": {
        "id": "view-in-github",
        "colab_type": "text"
      },
      "source": [
        "<a href=\"https://colab.research.google.com/github/melataguia/regretion_cluster../blob/main/gradient_boosting.ipynb\" target=\"_parent\"><img src=\"https://colab.research.google.com/assets/colab-badge.svg\" alt=\"Open In Colab\"/></a>"
      ]
    },
    {
      "cell_type": "markdown",
      "source": [
        "# Installation de la bibliothèque xgboost"
      ],
      "metadata": {
        "id": "g5tjNlkH_sSy"
      }
    },
    {
      "cell_type": "code",
      "source": [
        "install.packages(\"xgboost\")"
      ],
      "metadata": {
        "colab": {
          "base_uri": "https://localhost:8080/"
        },
        "id": "notw76bq_tha",
        "outputId": "e0d39244-5da3-4110-9fa5-81637d19e097"
      },
      "execution_count": 1,
      "outputs": [
        {
          "output_type": "stream",
          "name": "stderr",
          "text": [
            "Installing package into ‘/usr/local/lib/R/site-library’\n",
            "(as ‘lib’ is unspecified)\n",
            "\n"
          ]
        }
      ]
    },
    {
      "cell_type": "markdown",
      "source": [
        "# Charger les bibliothèques nécessaires"
      ],
      "metadata": {
        "id": "9-TuINKS_vmf"
      }
    },
    {
      "cell_type": "code",
      "source": [
        "library(xgboost)\n",
        "library(ggplot2)"
      ],
      "metadata": {
        "id": "JYyZNn4E_xbk"
      },
      "execution_count": 43,
      "outputs": []
    },
    {
      "cell_type": "markdown",
      "source": [],
      "metadata": {
        "id": "FgkEVxYn2C8Y"
      }
    },
    {
      "cell_type": "markdown",
      "source": [
        "\n",
        "\n",
        "```\n",
        "# Ce texte est au format code\n",
        "```\n",
        "\n",
        "# Charger les données"
      ],
      "metadata": {
        "id": "AlgHz220_zvX"
      }
    },
    {
      "cell_type": "code",
      "source": [
        "movies <- read.csv('../movies.csv')\n",
        "ratings <- read.csv('../ratings.csv')\n",
        "#tags <- read.csv('./tags.csv')"
      ],
      "metadata": {
        "id": "huRnupVx_19k"
      },
      "execution_count": 13,
      "outputs": []
    },
    {
      "cell_type": "markdown",
      "source": [
        "# Vérifier les données manquantes"
      ],
      "metadata": {
        "id": "_er4R7eu_4L_"
      }
    },
    {
      "cell_type": "code",
      "source": [
        "missing_ratings <- colSums(is.na(ratings))\n",
        "cat(\"Missing values in 'ratings':\\n\")\n",
        "print(missing_ratings)"
      ],
      "metadata": {
        "colab": {
          "base_uri": "https://localhost:8080/"
        },
        "id": "wf1lphkB_7xB",
        "outputId": "4eecaf1e-f047-45fc-8918-9080a742b1d9"
      },
      "execution_count": 18,
      "outputs": [
        {
          "output_type": "stream",
          "name": "stdout",
          "text": [
            "Missing values in 'ratings':\n",
            "   userId   movieId    rating timestamp \n",
            "        0         0         0         6 \n"
          ]
        }
      ]
    },
    {
      "cell_type": "code",
      "source": [
        "missing_movies <- colSums(is.na(movies))\n",
        "cat(\"\\nMissing values in 'movies':\\n\")\n",
        "print(missing_movies)"
      ],
      "metadata": {
        "id": "jyE-MPjtqHuT",
        "outputId": "be8ea905-8c90-4294-9ae5-fd0c1bb447e2",
        "colab": {
          "base_uri": "https://localhost:8080/"
        }
      },
      "execution_count": 19,
      "outputs": [
        {
          "output_type": "stream",
          "name": "stdout",
          "text": [
            "\n",
            "Missing values in 'movies':\n",
            "movieId   title  genres \n",
            "      0       0       0 \n"
          ]
        }
      ]
    },
    {
      "cell_type": "markdown",
      "source": [
        "##Supprimer les lignes avec des valeurs manquantes dans le dataframe 'ratings'\n"
      ],
      "metadata": {
        "id": "7hKLpxHh_9_l"
      }
    },
    {
      "cell_type": "code",
      "source": [
        "ratings <- ratings[complete.cases(ratings), ]"
      ],
      "metadata": {
        "id": "cxW5lKl3AAOf"
      },
      "execution_count": 20,
      "outputs": []
    },
    {
      "cell_type": "markdown",
      "source": [
        "##Supprimer les lignes avec des valeurs manquantes dans le dataframe 'movies'"
      ],
      "metadata": {
        "id": "bT9W67Cfqh7V"
      }
    },
    {
      "cell_type": "code",
      "source": [
        "movies <- na.omit(movies)"
      ],
      "metadata": {
        "id": "xrXcYVkuqi76"
      },
      "execution_count": 21,
      "outputs": []
    },
    {
      "cell_type": "markdown",
      "source": [
        "###Afficher le nombre de lignes après suppression des valeurs manquantes pour chaque dataframe\n"
      ],
      "metadata": {
        "id": "_v7lTEZBq-70"
      }
    },
    {
      "cell_type": "code",
      "source": [
        "cat(\"Nombre de lignes après suppression des valeurs manquantes dans 'ratings':\", nrow(ratings), \"\\n\")\n",
        "cat(\"Nombre de lignes après suppression des valeurs manquantes dans 'movies':\", nrow(movies), \"\\n\")"
      ],
      "metadata": {
        "id": "nTA9TKtArEq4",
        "outputId": "656e74af-91f5-447f-b5db-9c2253dc141b",
        "colab": {
          "base_uri": "https://localhost:8080/"
        }
      },
      "execution_count": 22,
      "outputs": [
        {
          "output_type": "stream",
          "name": "stdout",
          "text": [
            "Nombre de lignes après suppression des valeurs manquantes dans 'ratings': 274089 \n",
            "Nombre de lignes après suppression des valeurs manquantes dans 'movies': 9742 \n"
          ]
        }
      ]
    },
    {
      "cell_type": "markdown",
      "source": [
        "# Fusion des données"
      ],
      "metadata": {
        "id": "-avrk9WYlaJb"
      }
    },
    {
      "cell_type": "code",
      "source": [
        "data <- merge(ratings, movies, by = \"movieId\")"
      ],
      "metadata": {
        "id": "Jv6GtmLYlgFL"
      },
      "execution_count": 23,
      "outputs": []
    },
    {
      "cell_type": "markdown",
      "source": [
        "###Afficher les premières lignes de la dataframe 'data'"
      ],
      "metadata": {
        "id": "ZuIMO5vlruah"
      }
    },
    {
      "cell_type": "code",
      "source": [
        "print(head(data))"
      ],
      "metadata": {
        "id": "dlxbWpiYrTwd",
        "outputId": "7bcfa49d-bf9e-4af0-a670-d1ca1c11e1a7",
        "colab": {
          "base_uri": "https://localhost:8080/"
        }
      },
      "execution_count": 25,
      "outputs": [
        {
          "output_type": "stream",
          "name": "stdout",
          "text": [
            "  movieId userId rating  timestamp            title\n",
            "1       1      1    4.0  964982703 Toy Story (1995)\n",
            "2       1    232    3.5 1076955621 Toy Story (1995)\n",
            "3       1    474    4.0  978575760 Toy Story (1995)\n",
            "4       1    484    4.5 1342295949 Toy Story (1995)\n",
            "5       1    304    5.0  881428344 Toy Story (1995)\n",
            "6       1    471    5.0 1496671820 Toy Story (1995)\n",
            "                                       genres\n",
            "1 Adventure|Animation|Children|Comedy|Fantasy\n",
            "2 Adventure|Animation|Children|Comedy|Fantasy\n",
            "3 Adventure|Animation|Children|Comedy|Fantasy\n",
            "4 Adventure|Animation|Children|Comedy|Fantasy\n",
            "5 Adventure|Animation|Children|Comedy|Fantasy\n",
            "6 Adventure|Animation|Children|Comedy|Fantasy\n"
          ]
        }
      ]
    },
    {
      "cell_type": "markdown",
      "source": [
        "# Diviser les données en ensembles d'apprentissage et de test"
      ],
      "metadata": {
        "id": "qv4sgL7YADd-"
      }
    },
    {
      "cell_type": "code",
      "source": [
        "set.seed(123)  # Pour la reproductibilité\n",
        "train_indices <- sample(1:nrow(ratings), 0.8 * nrow(ratings))\n",
        "train_data <- ratings[train_indices, ]\n",
        "test_data <- ratings[-train_indices, ]"
      ],
      "metadata": {
        "id": "DFP_FQxKAED8"
      },
      "execution_count": 26,
      "outputs": []
    },
    {
      "cell_type": "markdown",
      "source": [
        "#Étape 1 : Prédire les recommandations en fonction de la moyenne des observations"
      ],
      "metadata": {
        "id": "DnZc-2vEAGcp"
      }
    },
    {
      "cell_type": "code",
      "source": [
        "# Définition des hyperparamètres\n",
        "num_iterations <- 100\n",
        "learning_rate <- 0.01\n",
        "\n",
        "# Initialisation des prédictions sur l'ensemble d'entraînement et de test\n",
        "train_data$prediction <- 0\n",
        "test_data$prediction <- 0"
      ],
      "metadata": {
        "id": "eGkco7Uuuua-"
      },
      "execution_count": 34,
      "outputs": []
    },
    {
      "cell_type": "code",
      "source": [
        "mean_rating <- mean(train_data$rating)"
      ],
      "metadata": {
        "id": "cLmse7WkAIuA"
      },
      "execution_count": 35,
      "outputs": []
    },
    {
      "cell_type": "markdown",
      "source": [
        "# Étape 2 à 5 : Construction progressive du modèle avec XGBoost"
      ],
      "metadata": {
        "id": "v1_tsg8BALHs"
      }
    },
    {
      "cell_type": "code",
      "source": [
        "\n",
        "\n",
        "for (i in 1:num_iterations) {\n",
        "  # Étape 2 : Calcul des résidus\n",
        "  train_data$residual <- train_data$rating - train_data$prediction\n",
        "\n",
        "  # Étape 3 : Construction du modèle XGBoost pour prédire les résidus\n",
        "  xgb_model <- xgboost(data = as.matrix(train_data[, c(\"userId\", \"movieId\")]),\n",
        "                       label = train_data$residual,\n",
        "                       nrounds = 50,\n",
        "                       eta = learning_rate)\n",
        "\n",
        "  # Étape 4 : Mise à jour des prédictions sur l'ensemble d'entraînement\n",
        "  train_data$prediction <- train_data$prediction + predict(xgb_model, as.matrix(train_data[, c(\"userId\", \"movieId\")]))\n",
        "\n",
        "  # Étape 5 : Mise à jour des prédictions sur l'ensemble de test\n",
        "  test_data$prediction <- test_data$prediction + predict(xgb_model, as.matrix(test_data[, c(\"userId\", \"movieId\")]))\n",
        "}\n",
        "\n",
        "# Moyenne des prédictions sur l'ensemble d'entraînement et de test\n",
        "train_data$prediction <- mean_rating + train_data$prediction / num_iterations\n",
        "test_data$prediction <- mean_rating + test_data$prediction / num_iterations"
      ],
      "metadata": {
        "id": "XcDpCZ8HANV2"
      },
      "execution_count": null,
      "outputs": []
    },
    {
      "cell_type": "markdown",
      "source": [
        "\n",
        "# Évaluation des performances du modèle en  utilisant l'erreur quadratique moyenne (RMSE)"
      ],
      "metadata": {
        "id": "TkKxkBUBAQ0b"
      }
    },
    {
      "cell_type": "code",
      "source": [
        "rmse <- sqrt(mean((test_data$rating - test_data$prediction)^2))\n",
        "cat(\"RMSE sur l'ensemble de test :\", rmse, \"\\n\")\n"
      ],
      "metadata": {
        "colab": {
          "base_uri": "https://localhost:8080/"
        },
        "id": "DChBJqu_ARnZ",
        "outputId": "53deaca3-26f7-4a40-ee7e-813ff10a7c99"
      },
      "execution_count": 38,
      "outputs": [
        {
          "output_type": "stream",
          "name": "stdout",
          "text": [
            "RMSE sur l'ensemble de test : 1.041599 \n"
          ]
        }
      ]
    },
    {
      "cell_type": "code",
      "source": [
        "# Calcul de la MAE\n",
        "mae <- mean(abs(test_data$rating - test_data$prediction))\n",
        "\n",
        "# Calcul de la Median Absolute Error\n",
        "median_absolute_error <- median(abs(test_data$rating - test_data$prediction))\n",
        "\n",
        "# Affichage des résultats\n",
        "cat(\"MAE sur l'ensemble de test :\", mae, \"\\n\")\n",
        "cat(\"Median Absolute Error sur l'ensemble de test :\", median_absolute_error, \"\\n\")\n"
      ],
      "metadata": {
        "id": "8CY51i9U0brZ",
        "outputId": "b403856c-fb9e-412e-93ef-3e313b91d9c1",
        "colab": {
          "base_uri": "https://localhost:8080/"
        }
      },
      "execution_count": 40,
      "outputs": [
        {
          "output_type": "stream",
          "name": "stdout",
          "text": [
            "MAE sur l'ensemble de test : 0.8232204 \n",
            "Median Absolute Error sur l'ensemble de test : 0.5103939 \n"
          ]
        }
      ]
    },
    {
      "cell_type": "markdown",
      "source": [
        "## Calcul des erreurs absolues\n"
      ],
      "metadata": {
        "id": "YJC80lFk2EOx"
      }
    },
    {
      "cell_type": "code",
      "source": [
        "test_data$error <- abs(test_data$rating - test_data$prediction)\n",
        "\n"
      ],
      "metadata": {
        "id": "8JICGiCs2ILU"
      },
      "execution_count": 44,
      "outputs": []
    },
    {
      "cell_type": "markdown",
      "source": [
        "# Construction de l'histogramme\n"
      ],
      "metadata": {
        "id": "M5UgthxL2KV2"
      }
    },
    {
      "cell_type": "code",
      "source": [
        "ggplot(test_data, aes(x = error)) +\n",
        "  geom_histogram(binwidth = 0.3, fill = \"blue\", color = \"black\", alpha = 0.7) +\n",
        "  labs(title = \"Histogramme des Erreurs Absolues\",\n",
        "       x = \"Erreur Absolue\",\n",
        "       y = \"Fréquence\") +\n",
        "  theme_minimal()"
      ],
      "metadata": {
        "id": "YJ3F2x4s2MiK",
        "outputId": "ebc3a8e1-4a82-446b-b5f1-570b8e65f83c",
        "colab": {
          "base_uri": "https://localhost:8080/",
          "height": 437
        }
      },
      "execution_count": 46,
      "outputs": [
        {
          "output_type": "display_data",
          "data": {
            "text/plain": [
              "plot without title"
            ],
            "image/png": "[encoded data removed]"
          },
          "metadata": {
            "image/png": {
              "width": 420,
              "height": 420
            }
          }
        }
      ]
    }
  ]
}